{
 "cells": [
  {
   "cell_type": "markdown",
   "id": "47847f7b-3fb9-440e-9330-43fae99cc47c",
   "metadata": {},
   "source": [
    "# Python Einführung"
   ]
  },
  {
   "cell_type": "code",
   "execution_count": 1,
   "id": "dc969a8d-1d31-4b1c-bb07-508e254b9627",
   "metadata": {},
   "outputs": [
    {
     "name": "stdout",
     "output_type": "stream",
     "text": [
      "Hello world!\n"
     ]
    }
   ],
   "source": [
    "print (\"Hello world!\")"
   ]
  },
  {
   "cell_type": "code",
   "execution_count": 2,
   "id": "741f0325-2955-42d8-8a49-b9370b6bee1d",
   "metadata": {},
   "outputs": [
    {
     "name": "stdout",
     "output_type": "stream",
     "text": [
      "Something\n"
     ]
    }
   ],
   "source": [
    "# Dies ist ein Kommentar\n",
    "print(\"Something\")"
   ]
  },
  {
   "cell_type": "markdown",
   "id": "c112f5cc-73fc-4129-a2e8-4df1185f72d8",
   "metadata": {},
   "source": [
    "## Einfache Datentypen"
   ]
  },
  {
   "cell_type": "code",
   "execution_count": 3,
   "id": "d0ef8031-8a86-4c6d-9a7a-0457e54c0ddc",
   "metadata": {},
   "outputs": [],
   "source": [
    "# Variablen und Wertezuweisungen\n",
    "name = \"Lovelace\""
   ]
  },
  {
   "cell_type": "code",
   "execution_count": 5,
   "id": "46323f5b-61b9-4868-8fd8-07816e309fb3",
   "metadata": {},
   "outputs": [
    {
     "name": "stdout",
     "output_type": "stream",
     "text": [
      "Lovelace\n"
     ]
    }
   ],
   "source": [
    "print(name)"
   ]
  },
  {
   "cell_type": "code",
   "execution_count": 6,
   "id": "39bc8118-7236-4199-a153-5d42a42bb048",
   "metadata": {},
   "outputs": [
    {
     "name": "stdout",
     "output_type": "stream",
     "text": [
      "Ada\n"
     ]
    }
   ],
   "source": [
    "# String - Zeichenkette\n",
    "first_name = \"Ada\"\n",
    "print(first_name)"
   ]
  },
  {
   "cell_type": "code",
   "execution_count": 7,
   "id": "2ef18d4f-0748-4e07-9d49-eeb9022881f3",
   "metadata": {},
   "outputs": [
    {
     "name": "stdout",
     "output_type": "stream",
     "text": [
      "37\n"
     ]
    }
   ],
   "source": [
    "# Integer - Ganzzahlen\n",
    "age = 37\n",
    "print(age)"
   ]
  },
  {
   "cell_type": "code",
   "execution_count": 8,
   "id": "bfaac668-ae1b-4254-a647-44884d5babd8",
   "metadata": {},
   "outputs": [
    {
     "name": "stdout",
     "output_type": "stream",
     "text": [
      "1.7123\n"
     ]
    }
   ],
   "source": [
    "# Float - Gleitkommezahlen\n",
    "size = 1.7123\n",
    "print(size)"
   ]
  },
  {
   "cell_type": "code",
   "execution_count": 9,
   "id": "a713aad1-1ae0-4730-921e-fb69a6fce171",
   "metadata": {},
   "outputs": [
    {
     "name": "stdout",
     "output_type": "stream",
     "text": [
      "True\n",
      "False\n"
     ]
    }
   ],
   "source": [
    "# Boolean - Boolsche Werte\n",
    "knows_math = True\n",
    "print(knows_math)\n",
    "likes_gardening = False\n",
    "print(likes_gardening)"
   ]
  },
  {
   "cell_type": "code",
   "execution_count": 10,
   "id": "39d6847c-9746-4f9b-a7be-1da533416a45",
   "metadata": {},
   "outputs": [
    {
     "data": {
      "text/plain": [
       "str"
      ]
     },
     "execution_count": 10,
     "metadata": {},
     "output_type": "execute_result"
    }
   ],
   "source": [
    "# Typen anzeigen lassen\n",
    "type(name)"
   ]
  },
  {
   "cell_type": "code",
   "execution_count": 11,
   "id": "b354a556-e29b-4f12-9b97-afc738291bd7",
   "metadata": {},
   "outputs": [
    {
     "data": {
      "text/plain": [
       "int"
      ]
     },
     "execution_count": 11,
     "metadata": {},
     "output_type": "execute_result"
    }
   ],
   "source": [
    "# Typen anzeigen lassen\n",
    "type(age)"
   ]
  },
  {
   "cell_type": "code",
   "execution_count": 12,
   "id": "ff7c5145-a69e-491f-a8b2-08de60808eed",
   "metadata": {},
   "outputs": [
    {
     "data": {
      "text/plain": [
       "float"
      ]
     },
     "execution_count": 12,
     "metadata": {},
     "output_type": "execute_result"
    }
   ],
   "source": [
    "# Typen anzeigen lassen\n",
    "type(size)"
   ]
  },
  {
   "cell_type": "code",
   "execution_count": 13,
   "id": "d126d752-aef3-4450-9863-d4587fc85062",
   "metadata": {},
   "outputs": [
    {
     "data": {
      "text/plain": [
       "bool"
      ]
     },
     "execution_count": 13,
     "metadata": {},
     "output_type": "execute_result"
    }
   ],
   "source": [
    "# Typen anzeigen lassen\n",
    "type(knows_math)"
   ]
  },
  {
   "cell_type": "code",
   "execution_count": 14,
   "id": "d7aaae32-4f3a-4e2c-b2fc-52fdb058fd25",
   "metadata": {},
   "outputs": [
    {
     "data": {
      "text/plain": [
       "'Lovelace'"
      ]
     },
     "execution_count": 14,
     "metadata": {},
     "output_type": "execute_result"
    }
   ],
   "source": [
    "name"
   ]
  },
  {
   "cell_type": "code",
   "execution_count": 15,
   "id": "2db8cc5a-07c5-436d-a128-39c3b8ad21a3",
   "metadata": {},
   "outputs": [
    {
     "data": {
      "text/plain": [
       "37"
      ]
     },
     "execution_count": 15,
     "metadata": {},
     "output_type": "execute_result"
    }
   ],
   "source": [
    "name\n",
    "age"
   ]
  },
  {
   "cell_type": "code",
   "execution_count": 16,
   "id": "485c61e8-2542-49a4-ad70-ffa104fc45b2",
   "metadata": {},
   "outputs": [
    {
     "name": "stdout",
     "output_type": "stream",
     "text": [
      "Lovelace\n",
      "37\n"
     ]
    }
   ],
   "source": [
    "print(name)\n",
    "print(age)"
   ]
  },
  {
   "cell_type": "markdown",
   "id": "cf78f5aa-61a6-4fc3-9189-08c2dff887b7",
   "metadata": {},
   "source": [
    "## Operatoren"
   ]
  },
  {
   "cell_type": "code",
   "execution_count": 17,
   "id": "b0c94ecc-6cac-498b-8cbe-ac3fbcd7e389",
   "metadata": {},
   "outputs": [
    {
     "data": {
      "text/plain": [
       "10"
      ]
     },
     "execution_count": 17,
     "metadata": {},
     "output_type": "execute_result"
    }
   ],
   "source": [
    "# Addition\n",
    "5 + 5"
   ]
  },
  {
   "cell_type": "code",
   "execution_count": 18,
   "id": "03a690b4-5c82-402e-8bf6-863b60d844e0",
   "metadata": {},
   "outputs": [
    {
     "data": {
      "text/plain": [
       "3700"
      ]
     },
     "execution_count": 18,
     "metadata": {},
     "output_type": "execute_result"
    }
   ],
   "source": [
    "# Multiplikation\n",
    "age * 100"
   ]
  },
  {
   "cell_type": "code",
   "execution_count": 19,
   "id": "77208306-5c51-43f8-a59c-810ec7ee03f4",
   "metadata": {},
   "outputs": [
    {
     "data": {
      "text/plain": [
       "'LovelaceLovelace'"
      ]
     },
     "execution_count": 19,
     "metadata": {},
     "output_type": "execute_result"
    }
   ],
   "source": [
    "# Verkettung von Strings\n",
    "name + name"
   ]
  },
  {
   "cell_type": "code",
   "execution_count": 20,
   "id": "7f44c64e-5df6-455d-8b47-778f07f0e096",
   "metadata": {},
   "outputs": [
    {
     "name": "stdout",
     "output_type": "stream",
     "text": [
      "Ada Lovelace\n"
     ]
    }
   ],
   "source": [
    "print(first_name + \" \" + name)"
   ]
  },
  {
   "cell_type": "code",
   "execution_count": 21,
   "id": "338a66b4-f0cb-4315-848f-8a39b69c8d99",
   "metadata": {},
   "outputs": [
    {
     "data": {
      "text/plain": [
       "'Ada Lovelace'"
      ]
     },
     "execution_count": 21,
     "metadata": {},
     "output_type": "execute_result"
    }
   ],
   "source": [
    "first_name + \" \" + name"
   ]
  },
  {
   "cell_type": "code",
   "execution_count": 22,
   "id": "f0a95809-527a-415c-9bda-0cbb1dfc011c",
   "metadata": {},
   "outputs": [
    {
     "data": {
      "text/plain": [
       "'LovelaceLovelaceLovelaceLovelaceLovelaceLovelaceLovelaceLovelaceLovelaceLovelace'"
      ]
     },
     "execution_count": 22,
     "metadata": {},
     "output_type": "execute_result"
    }
   ],
   "source": [
    "name * 10"
   ]
  },
  {
   "cell_type": "code",
   "execution_count": 23,
   "id": "fd0f14fe-0785-4a2f-8052-be8b35dd7599",
   "metadata": {},
   "outputs": [
    {
     "ename": "TypeError",
     "evalue": "can only concatenate str (not \"int\") to str",
     "output_type": "error",
     "traceback": [
      "\u001b[1;31m---------------------------------------------------------------------------\u001b[0m",
      "\u001b[1;31mTypeError\u001b[0m                                 Traceback (most recent call last)",
      "Cell \u001b[1;32mIn[23], line 1\u001b[0m\n\u001b[1;32m----> 1\u001b[0m \u001b[43mname\u001b[49m\u001b[43m \u001b[49m\u001b[38;5;241;43m+\u001b[39;49m\u001b[43m \u001b[49m\u001b[38;5;241;43m10\u001b[39;49m\n",
      "\u001b[1;31mTypeError\u001b[0m: can only concatenate str (not \"int\") to str"
     ]
    }
   ],
   "source": [
    "name + 10"
   ]
  },
  {
   "cell_type": "code",
   "execution_count": 24,
   "id": "9b89e4f2-9861-4ee9-a9db-c4602b827679",
   "metadata": {},
   "outputs": [
    {
     "data": {
      "text/plain": [
       "'Lovelace10'"
      ]
     },
     "execution_count": 24,
     "metadata": {},
     "output_type": "execute_result"
    }
   ],
   "source": [
    "name + \"10\""
   ]
  },
  {
   "cell_type": "code",
   "execution_count": 25,
   "id": "35eb58d6-f3d2-4bec-af55-9d55b753bb30",
   "metadata": {},
   "outputs": [
    {
     "data": {
      "text/plain": [
       "0.04627837837837838"
      ]
     },
     "execution_count": 25,
     "metadata": {},
     "output_type": "execute_result"
    }
   ],
   "source": [
    "# Division\n",
    "size / age"
   ]
  },
  {
   "cell_type": "code",
   "execution_count": 26,
   "id": "a51c50ec-ea01-4fc4-af2a-925a069e0e2a",
   "metadata": {},
   "outputs": [],
   "source": [
    "number_of_articles = \"50\""
   ]
  },
  {
   "cell_type": "code",
   "execution_count": 27,
   "id": "2df7717d-8b9f-4094-9d8e-242351ab39d5",
   "metadata": {},
   "outputs": [
    {
     "ename": "TypeError",
     "evalue": "unsupported operand type(s) for /: 'str' and 'int'",
     "output_type": "error",
     "traceback": [
      "\u001b[1;31m---------------------------------------------------------------------------\u001b[0m",
      "\u001b[1;31mTypeError\u001b[0m                                 Traceback (most recent call last)",
      "Cell \u001b[1;32mIn[27], line 1\u001b[0m\n\u001b[1;32m----> 1\u001b[0m \u001b[43mnumber_of_articles\u001b[49m\u001b[43m \u001b[49m\u001b[38;5;241;43m/\u001b[39;49m\u001b[43m \u001b[49m\u001b[38;5;241;43m10\u001b[39;49m\n",
      "\u001b[1;31mTypeError\u001b[0m: unsupported operand type(s) for /: 'str' and 'int'"
     ]
    }
   ],
   "source": [
    "number_of_articles / 10"
   ]
  },
  {
   "cell_type": "code",
   "execution_count": 28,
   "id": "37156a60-adf4-4bf3-81be-086653100e81",
   "metadata": {},
   "outputs": [
    {
     "data": {
      "text/plain": [
       "5.0"
      ]
     },
     "execution_count": 28,
     "metadata": {},
     "output_type": "execute_result"
    }
   ],
   "source": [
    "int(number_of_articles) / 10"
   ]
  },
  {
   "cell_type": "code",
   "execution_count": 29,
   "id": "895a4e1a-9504-4d77-a6cc-458823cf96a8",
   "metadata": {},
   "outputs": [
    {
     "data": {
      "text/plain": [
       "str"
      ]
     },
     "execution_count": 29,
     "metadata": {},
     "output_type": "execute_result"
    }
   ],
   "source": [
    "type(number_of_articles)"
   ]
  },
  {
   "cell_type": "markdown",
   "id": "5a465fb2-01a4-460a-b193-1327e6f63a3d",
   "metadata": {},
   "source": [
    "## Funktionen und Methoden"
   ]
  },
  {
   "cell_type": "code",
   "execution_count": 31,
   "id": "aec712fd-2f22-498f-b00a-2d4d57be6e26",
   "metadata": {},
   "outputs": [
    {
     "data": {
      "text/plain": [
       "8"
      ]
     },
     "execution_count": 31,
     "metadata": {},
     "output_type": "execute_result"
    }
   ],
   "source": [
    "# Funktion\n",
    "len(name)"
   ]
  },
  {
   "cell_type": "code",
   "execution_count": 32,
   "id": "f75982f6-dd0f-46ac-85b6-afdd5444eb94",
   "metadata": {},
   "outputs": [
    {
     "data": {
      "text/plain": [
       "'LOVELACE'"
      ]
     },
     "execution_count": 32,
     "metadata": {},
     "output_type": "execute_result"
    }
   ],
   "source": [
    "# Methode\n",
    "name.upper()"
   ]
  },
  {
   "cell_type": "code",
   "execution_count": 34,
   "id": "4bcbb408-ab51-4266-88dc-4b0b8eba7c30",
   "metadata": {},
   "outputs": [
    {
     "data": {
      "text/plain": [
       "1"
      ]
     },
     "execution_count": 34,
     "metadata": {},
     "output_type": "execute_result"
    }
   ],
   "source": [
    "# Methode mit einem Argumenten\n",
    "name.count(\"l\")"
   ]
  },
  {
   "cell_type": "code",
   "execution_count": 35,
   "id": "a5f4f3cb-4a49-4e22-8e0f-00e6b431cace",
   "metadata": {},
   "outputs": [
    {
     "data": {
      "text/plain": [
       "2"
      ]
     },
     "execution_count": 35,
     "metadata": {},
     "output_type": "execute_result"
    }
   ],
   "source": [
    "name.upper().count(\"L\")"
   ]
  },
  {
   "cell_type": "code",
   "execution_count": 36,
   "id": "2186afdb-bc79-4017-a067-a20022f72da3",
   "metadata": {},
   "outputs": [],
   "source": [
    "name_upper = name.upper()"
   ]
  },
  {
   "cell_type": "code",
   "execution_count": 37,
   "id": "45667323-d42c-48b3-95bc-a755df580d8f",
   "metadata": {},
   "outputs": [
    {
     "name": "stdout",
     "output_type": "stream",
     "text": [
      "LOVELACE\n"
     ]
    }
   ],
   "source": [
    "print(name_upper)"
   ]
  },
  {
   "cell_type": "code",
   "execution_count": 38,
   "id": "a33e0559-cd3d-40f3-b1bc-8df072c6a80f",
   "metadata": {},
   "outputs": [
    {
     "data": {
      "text/plain": [
       "'Love is everywhere'"
      ]
     },
     "execution_count": 38,
     "metadata": {},
     "output_type": "execute_result"
    }
   ],
   "source": [
    "# Methode mit zwei Argumenten\n",
    "name.replace(\"lace\", \" is everywhere\")"
   ]
  },
  {
   "cell_type": "markdown",
   "id": "6a5ea5a9-4e10-4602-a521-c94fc17cad94",
   "metadata": {},
   "source": [
    "## Listen und Dictionaries"
   ]
  },
  {
   "cell_type": "code",
   "execution_count": 46,
   "id": "0aaab026-1905-4d88-8045-3aa5dbfc9448",
   "metadata": {},
   "outputs": [],
   "source": [
    "# Listen\n",
    "names = [\"Lovelace\", \"Darwin\", \"Noether\", \"Hawking\"]"
   ]
  },
  {
   "cell_type": "code",
   "execution_count": 40,
   "id": "96550c2f-c0b3-4d82-9209-c44b2683801d",
   "metadata": {},
   "outputs": [
    {
     "data": {
      "text/plain": [
       "['Lovelace', 'Darwin', 'Noether', 'Hawking']"
      ]
     },
     "execution_count": 40,
     "metadata": {},
     "output_type": "execute_result"
    }
   ],
   "source": [
    "names"
   ]
  },
  {
   "cell_type": "code",
   "execution_count": 41,
   "id": "0d590f7e-98b9-4c8c-8c80-7ee594e276b2",
   "metadata": {},
   "outputs": [
    {
     "data": {
      "text/plain": [
       "'Darwin'"
      ]
     },
     "execution_count": 41,
     "metadata": {},
     "output_type": "execute_result"
    }
   ],
   "source": [
    "names[1]"
   ]
  },
  {
   "cell_type": "code",
   "execution_count": 42,
   "id": "3f283c0f-4fe0-495f-853d-18645ced86c3",
   "metadata": {},
   "outputs": [
    {
     "data": {
      "text/plain": [
       "'Hawking'"
      ]
     },
     "execution_count": 42,
     "metadata": {},
     "output_type": "execute_result"
    }
   ],
   "source": [
    "names[-1]"
   ]
  },
  {
   "cell_type": "code",
   "execution_count": 43,
   "id": "f89952a4-ad6a-4680-b886-e800ad2c2798",
   "metadata": {},
   "outputs": [
    {
     "data": {
      "text/plain": [
       "['Lovelace', 'Darwin', 'Noether']"
      ]
     },
     "execution_count": 43,
     "metadata": {},
     "output_type": "execute_result"
    }
   ],
   "source": [
    "names[0:3]"
   ]
  },
  {
   "cell_type": "code",
   "execution_count": 44,
   "id": "a5355470-4b1b-4c97-a6fa-ef78b1667dd8",
   "metadata": {},
   "outputs": [
    {
     "data": {
      "text/plain": [
       "['Lovelace', 'Darwin']"
      ]
     },
     "execution_count": 44,
     "metadata": {},
     "output_type": "execute_result"
    }
   ],
   "source": [
    "# slicing\n",
    "names[:2]"
   ]
  },
  {
   "cell_type": "code",
   "execution_count": 45,
   "id": "e8c668db-b0b3-4247-ba13-38f48ed7343d",
   "metadata": {},
   "outputs": [
    {
     "data": {
      "text/plain": [
       "['Noether', 'Hawking']"
      ]
     },
     "execution_count": 45,
     "metadata": {},
     "output_type": "execute_result"
    }
   ],
   "source": [
    "names[2:]"
   ]
  },
  {
   "cell_type": "code",
   "execution_count": 47,
   "id": "33c22a86-087e-43b6-9463-6f5d8b6a24c8",
   "metadata": {},
   "outputs": [],
   "source": [
    "# Dictionaries: Schlüssel-Wertpaare\n",
    "authors_and_birth_years = {\"Lovelace\": 1815, \n",
    "                           \"Darwin\": 1809, \n",
    "                           \"Noether\": 1882, \n",
    "                           \"Hawking\": 1942}"
   ]
  },
  {
   "cell_type": "code",
   "execution_count": 48,
   "id": "7f3c1bfe-5982-4e16-88c1-b9448456a78f",
   "metadata": {},
   "outputs": [
    {
     "data": {
      "text/plain": [
       "1809"
      ]
     },
     "execution_count": 48,
     "metadata": {},
     "output_type": "execute_result"
    }
   ],
   "source": [
    "authors_and_birth_years[\"Darwin\"]"
   ]
  },
  {
   "cell_type": "code",
   "execution_count": 49,
   "id": "0b2c87e8-9925-42cf-a3d8-f2468753593d",
   "metadata": {},
   "outputs": [
    {
     "ename": "KeyError",
     "evalue": "'DARWIN'",
     "output_type": "error",
     "traceback": [
      "\u001b[1;31m---------------------------------------------------------------------------\u001b[0m",
      "\u001b[1;31mKeyError\u001b[0m                                  Traceback (most recent call last)",
      "Cell \u001b[1;32mIn[49], line 1\u001b[0m\n\u001b[1;32m----> 1\u001b[0m \u001b[43mauthors_and_birth_years\u001b[49m\u001b[43m[\u001b[49m\u001b[38;5;124;43m\"\u001b[39;49m\u001b[38;5;124;43mDARWIN\u001b[39;49m\u001b[38;5;124;43m\"\u001b[39;49m\u001b[43m]\u001b[49m\n",
      "\u001b[1;31mKeyError\u001b[0m: 'DARWIN'"
     ]
    }
   ],
   "source": [
    "authors_and_birth_years[\"DARWIN\"]"
   ]
  },
  {
   "cell_type": "code",
   "execution_count": 50,
   "id": "a2828571-ec33-44a2-8122-175618ae8eae",
   "metadata": {},
   "outputs": [
    {
     "data": {
      "text/plain": [
       "dict_keys(['Lovelace', 'Darwin', 'Noether', 'Hawking'])"
      ]
     },
     "execution_count": 50,
     "metadata": {},
     "output_type": "execute_result"
    }
   ],
   "source": [
    "authors_and_birth_years.keys()"
   ]
  },
  {
   "cell_type": "markdown",
   "id": "1559dd89-3283-4a18-8e84-73c6ceca5099",
   "metadata": {},
   "source": [
    "## For-Schleife"
   ]
  },
  {
   "cell_type": "code",
   "execution_count": 51,
   "id": "ea2f354e-ece1-48d6-a90a-97f09fdb0b8b",
   "metadata": {},
   "outputs": [
    {
     "data": {
      "text/plain": [
       "['Lovelace', 'Darwin', 'Noether', 'Hawking']"
      ]
     },
     "execution_count": 51,
     "metadata": {},
     "output_type": "execute_result"
    }
   ],
   "source": [
    "names"
   ]
  },
  {
   "cell_type": "code",
   "execution_count": 53,
   "id": "74b39377-c1ef-4d08-83d2-40d590b6208e",
   "metadata": {},
   "outputs": [
    {
     "name": "stdout",
     "output_type": "stream",
     "text": [
      "Lovelace did awesome stuff.\n",
      "Darwin did awesome stuff.\n",
      "Noether did awesome stuff.\n",
      "Hawking did awesome stuff.\n"
     ]
    }
   ],
   "source": [
    "for person in names:\n",
    "    print(person + \" did awesome stuff.\")"
   ]
  },
  {
   "cell_type": "code",
   "execution_count": 54,
   "id": "07cee727-a0a7-4ef2-a165-367cbba5d707",
   "metadata": {},
   "outputs": [
    {
     "name": "stdout",
     "output_type": "stream",
     "text": [
      "Lovelace did awesome stuff.\n",
      "Darwin did awesome stuff.\n",
      "Noether did awesome stuff.\n",
      "Hawking did awesome stuff.\n",
      "-------\n"
     ]
    }
   ],
   "source": [
    "for person in names:\n",
    "    print(person + \" did awesome stuff.\")\n",
    "print(\"-------\")"
   ]
  },
  {
   "cell_type": "code",
   "execution_count": 55,
   "id": "a396fa84-04d5-48d0-897f-05b8f961f89a",
   "metadata": {},
   "outputs": [
    {
     "name": "stdout",
     "output_type": "stream",
     "text": [
      "Lovelace did awesome stuff.\n",
      "-------\n",
      "Darwin did awesome stuff.\n",
      "-------\n",
      "Noether did awesome stuff.\n",
      "-------\n",
      "Hawking did awesome stuff.\n",
      "-------\n"
     ]
    }
   ],
   "source": [
    "for person in names:\n",
    "    print(person + \" did awesome stuff.\")\n",
    "    print(\"-------\")"
   ]
  },
  {
   "cell_type": "code",
   "execution_count": 56,
   "id": "f363f32c-9bfe-43c8-b7f6-33a46cc6f4c3",
   "metadata": {},
   "outputs": [
    {
     "name": "stdout",
     "output_type": "stream",
     "text": [
      "Hawking\n"
     ]
    }
   ],
   "source": [
    "print(person)"
   ]
  },
  {
   "cell_type": "code",
   "execution_count": 57,
   "id": "6ea6b46f-9f16-49d9-b2d0-92ab4bbb8647",
   "metadata": {},
   "outputs": [
    {
     "name": "stdout",
     "output_type": "stream",
     "text": [
      "Variable                  Type     Data/Info\n",
      "--------------------------------------------\n",
      "age                       int      37\n",
      "authors_and_birth_years   dict     n=4\n",
      "first_name                str      Ada\n",
      "knows_math                bool     True\n",
      "likes_gardening           bool     False\n",
      "name                      str      Lovelace\n",
      "name_upper                str      LOVELACE\n",
      "names                     list     n=4\n",
      "number_of_articles        str      50\n",
      "person                    str      Hawking\n",
      "size                      float    1.7123\n"
     ]
    }
   ],
   "source": [
    "%whos"
   ]
  },
  {
   "cell_type": "code",
   "execution_count": 58,
   "id": "6d615396-aef1-4978-862b-a0ddcc09ea95",
   "metadata": {},
   "outputs": [],
   "source": [
    "del person"
   ]
  },
  {
   "cell_type": "code",
   "execution_count": 59,
   "id": "a4c9ee7c-7271-4c40-a645-e09b14233e7d",
   "metadata": {},
   "outputs": [
    {
     "name": "stdout",
     "output_type": "stream",
     "text": [
      "Variable                  Type     Data/Info\n",
      "--------------------------------------------\n",
      "age                       int      37\n",
      "authors_and_birth_years   dict     n=4\n",
      "first_name                str      Ada\n",
      "knows_math                bool     True\n",
      "likes_gardening           bool     False\n",
      "name                      str      Lovelace\n",
      "name_upper                str      LOVELACE\n",
      "names                     list     n=4\n",
      "number_of_articles        str      50\n",
      "size                      float    1.7123\n"
     ]
    }
   ],
   "source": [
    "%whos"
   ]
  },
  {
   "cell_type": "markdown",
   "id": "c3cc8c8f-19d7-4ab8-ac9b-123c73741e27",
   "metadata": {},
   "source": [
    "## Conditionals / Bedingte Anweisungen"
   ]
  },
  {
   "cell_type": "code",
   "execution_count": 60,
   "id": "ad88c155-ddfd-4a0e-bfe4-a68fb191ba2d",
   "metadata": {},
   "outputs": [],
   "source": [
    "# bestimmte Dinge tun, wenn Bedingung erfüllt ist"
   ]
  },
  {
   "cell_type": "code",
   "execution_count": 61,
   "id": "44386a18-7475-43af-9e33-1de5d2b6b0fa",
   "metadata": {},
   "outputs": [],
   "source": [
    "temp = 20"
   ]
  },
  {
   "cell_type": "code",
   "execution_count": 62,
   "id": "7bb4cc1a-5782-4469-96a7-818c7e0d7139",
   "metadata": {},
   "outputs": [
    {
     "name": "stdout",
     "output_type": "stream",
     "text": [
      "Es ist warm.\n"
     ]
    }
   ],
   "source": [
    "if temp > 15: \n",
    "    print(\"Es ist warm.\")"
   ]
  },
  {
   "cell_type": "code",
   "execution_count": 63,
   "id": "db3f567c-d643-46f4-91e7-32f024394ec3",
   "metadata": {},
   "outputs": [
    {
     "data": {
      "text/plain": [
       "True"
      ]
     },
     "execution_count": 63,
     "metadata": {},
     "output_type": "execute_result"
    }
   ],
   "source": [
    "20 > 15"
   ]
  },
  {
   "cell_type": "code",
   "execution_count": 64,
   "id": "70a0e416-f079-4eee-bde0-f8e7cd58356f",
   "metadata": {},
   "outputs": [],
   "source": [
    "temp = 10"
   ]
  },
  {
   "cell_type": "code",
   "execution_count": 66,
   "id": "85ccbc0a-bd33-490c-bfb2-fc09ea184b6c",
   "metadata": {},
   "outputs": [
    {
     "name": "stdout",
     "output_type": "stream",
     "text": [
      "Es ist kalt.\n"
     ]
    }
   ],
   "source": [
    "if temp > 15:\n",
    "    print(\"Es ist warm.\")\n",
    "else:\n",
    "    print(\"Es ist kalt.\")"
   ]
  },
  {
   "cell_type": "code",
   "execution_count": 73,
   "id": "c5f05c41-b697-4fee-bc0c-e07c4c265776",
   "metadata": {},
   "outputs": [],
   "source": [
    "temp = 15"
   ]
  },
  {
   "cell_type": "code",
   "execution_count": 74,
   "id": "524e34ec-8238-43ea-8ef7-daba97ae75b7",
   "metadata": {},
   "outputs": [
    {
     "name": "stdout",
     "output_type": "stream",
     "text": [
      "Es ist warm.\n"
     ]
    }
   ],
   "source": [
    "if temp > 25:\n",
    "    print(\"Es ist heiß.\")\n",
    "elif temp >=15:\n",
    "    print(\"Es ist warm.\")\n",
    "else:\n",
    "    print(\"Es ist kalt.\")"
   ]
  },
  {
   "cell_type": "code",
   "execution_count": 75,
   "id": "77b664fa-58a8-4311-b49d-e7c21a29a6f1",
   "metadata": {},
   "outputs": [
    {
     "name": "stdout",
     "output_type": "stream",
     "text": [
      "Es ist warm.\n"
     ]
    }
   ],
   "source": [
    "temp = 30\n",
    "if temp >= 15:\n",
    "    print(\"Es ist warm.\")\n",
    "elif temp > 25:\n",
    "    print(\"Es ist heiß.\")\n",
    "else:\n",
    "    print(\"Es ist kalt.\")"
   ]
  },
  {
   "cell_type": "code",
   "execution_count": 76,
   "id": "67277ab6-6105-4de8-bb6a-9d68ea15d53f",
   "metadata": {},
   "outputs": [
    {
     "name": "stdout",
     "output_type": "stream",
     "text": [
      "Requirement already satisfied: pandas in c:\\users\\do1015\\miniforge3\\lib\\site-packages (2.2.3)\n",
      "Requirement already satisfied: numpy>=1.26.0 in c:\\users\\do1015\\miniforge3\\lib\\site-packages (from pandas) (2.1.3)\n",
      "Requirement already satisfied: python-dateutil>=2.8.2 in c:\\users\\do1015\\miniforge3\\lib\\site-packages (from pandas) (2.9.0.post0)\n",
      "Requirement already satisfied: pytz>=2020.1 in c:\\users\\do1015\\miniforge3\\lib\\site-packages (from pandas) (2024.1)\n",
      "Requirement already satisfied: tzdata>=2022.7 in c:\\users\\do1015\\miniforge3\\lib\\site-packages (from pandas) (2024.2)\n",
      "Requirement already satisfied: six>=1.5 in c:\\users\\do1015\\miniforge3\\lib\\site-packages (from python-dateutil>=2.8.2->pandas) (1.16.0)\n"
     ]
    }
   ],
   "source": [
    "!pip install pandas"
   ]
  },
  {
   "cell_type": "code",
   "execution_count": null,
   "id": "181973ce-44c3-41bb-a73b-ac5175d94f10",
   "metadata": {},
   "outputs": [],
   "source": []
  }
 ],
 "metadata": {
  "kernelspec": {
   "display_name": "Python 3 (ipykernel)",
   "language": "python",
   "name": "python3"
  },
  "language_info": {
   "codemirror_mode": {
    "name": "ipython",
    "version": 3
   },
   "file_extension": ".py",
   "mimetype": "text/x-python",
   "name": "python",
   "nbconvert_exporter": "python",
   "pygments_lexer": "ipython3",
   "version": "3.12.7"
  }
 },
 "nbformat": 4,
 "nbformat_minor": 5
}
